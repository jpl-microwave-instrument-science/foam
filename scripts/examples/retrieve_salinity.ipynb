{
 "cells": [
  {
   "cell_type": "code",
   "execution_count": null,
   "id": "d0d5fa1b-a9ba-4136-9416-d78f9ed5b218",
   "metadata": {},
   "outputs": [],
   "source": [
    "import pickle\n",
    "import numpy as np\n",
    "import pandas as pd \n",
    "import scipy.interpolate as spi\n",
    "\n",
    "import xarray as xr\n",
    "import cartopy.crs as ccrs\n",
    "from cftime import num2date, date2num\n",
    "from foam.ocean import ocean \n",
    "from foam.atmosphere import atmosphere\n",
    "from foam.ionosphere import ionosphere \n",
    "from foam.sky import sky \n",
    "from foam.solver import solver, bin_observations\n",
    "from foam.spacecraft import spacecraft, make_smap, make_aquarius, strings_to_epochs, revisit_time, angle_conversion\n",
    "from foam.utils import reader\n",
    "\n",
    "%matplotlib inline\n",
    "import matplotlib\n",
    "import matplotlib.pyplot as plt \n",
    "\n",
    "matplotlib.rcParams['figure.dpi'] = 150 \n"
   ]
  },
  {
   "cell_type": "markdown",
   "id": "9f2b0084-3074-4222-8ca6-7f06cd93b2c1",
   "metadata": {},
   "source": [
    "# Retrieve ocean salinity\n",
    "\n",
    "This notebook demonstrates how to use the FOAM package to simulate retrievals of sea surface salinity over an arbitrary region/time window. Different workflows are included\n",
    "\n",
    "## Set 1: Simulate spacecraft measurements, download ancillary data \n",
    "\n",
    "### 1. Create spacecraft "
   ]
  },
  {
   "cell_type": "code",
   "execution_count": null,
   "id": "4d24cc15-e797-4067-be8e-6f5c19be6ca7",
   "metadata": {},
   "outputs": [],
   "source": [
    "# Select your time window\n",
    "date_range = ('02-01-2020', '2-04-2020')\n",
    "eps = strings_to_epochs('2020 FEB 01 12:00 UTC', '2020 FEB 04 12:00 UTC') \n",
    "\n",
    "pick_spacecraft = 'SMAP'\n",
    "\n",
    "# Choose a spacecraft \n",
    "# epoch_res determines fidelity of orbit position interpolation, not sample rate\n",
    "if pick_spacecraft == 'SMAP': \n",
    "    craft = make_smap(*eps, epoch_res = 10, sc_number=0)\n",
    "elif pick_spacecraft == 'Aquarius': \n",
    "    craft = make_aquarius(*eps, epoch_res = 10, sc_number=0)\n",
    "else: \n",
    "    # Custom (this one is CIMR) \n",
    "    height = 817  # km \n",
    "    look_angle = sc_utils.angle_conversion(height, 55, in_angle_type='incidence')\n",
    "    inclination = np.radians(98.7)\n",
    "    raan = 18 / 24 * 2 * np.pi\n",
    "    tle_epoch = eps[0]\n",
    "    craft = spacecraft.spacecraft(sc_number=0)\n",
    "    elems = craft.get_manual_elems(inclination=inclination, raan=raan, \n",
    "                                   height=height * 1e3, tle_epoch=start_epoch)\n",
    "    craft.write_tle_kernels(elems=elems, tle_epoch=tle_epoch, start_epoch=eps[0],\n",
    "                                     end_epoch=eps[1], epoch_res=10)\n",
    "    craft.write_radiometer_ck(look_angle, 'Y', 7.8, 'X')  # Look angle and RPM \n"
   ]
  },
  {
   "cell_type": "markdown",
   "id": "43a134c4-d64b-4849-bf04-ede8e074ff10",
   "metadata": {},
   "source": [
    "### 2. Make spacecraft observation grid "
   ]
  },
  {
   "cell_type": "code",
   "execution_count": null,
   "id": "738a1ca7-b3ae-49a0-8753-1e787da9fe16",
   "metadata": {},
   "outputs": [],
   "source": [
    "bounds = ((-90, 90), (-180, 180))  # Latitude and longitude bounds \n",
    "sample_time = 100e-3  # seconds \n",
    "grid_res = 0.5  # degrees \n",
    "grid_mode = 'linear'  # Options are linear, ease, cosine; see docs.\n",
    "make_plots = False\n",
    "\n",
    "# Main wrapped if you want to run this in parallel \n",
    "if __name__ == '__main__': \n",
    "    grid, lon_bins, lat_bins, obs_dict = revisit_time(craft, *eps, sample_time, plots=make_plots, grid_res=grid_res, \n",
    "                                                      grid_mode=grid_mode, bounds=bounds, \n",
    "                                                      parallel=True, nproc=6, ndiv=6\n",
    "                                                     )\n",
    "    # Save your work \n",
    "    # pickle.dump(obs_dict, open('obs_dict.p', 'wb'))"
   ]
  },
  {
   "cell_type": "markdown",
   "id": "4a326e51-62ea-435a-b426-6423a6ae45e1",
   "metadata": {},
   "source": [
    "### 2.5 (Optional) Pre-download ancillary data "
   ]
  },
  {
   "cell_type": "code",
   "execution_count": null,
   "id": "2614f1c9-ebfe-4405-a0b1-644c5a203685",
   "metadata": {},
   "outputs": [],
   "source": [
    "# Ocean \n",
    "## SST \n",
    "rdr = reader.GHRSSTReader(date_range)\n",
    "ds = rdr.get_dataset()\n",
    "ds.to_netcdf('ghrsst_data.nc')\n",
    "\n",
    "## SSS \n",
    "rdr = reader.OISSSReader(date_range)\n",
    "ds = rdr.get_dataset()\n",
    "ds.to_netcdf('oisss_data.nc')\n",
    "\n",
    "# Atmosphere \n",
    "rdr = reader.NCEPReader(date_range)\n",
    "ds = rdr.get_dataset()\n",
    "ds.to_netcdf('ncep_data.nc')\n",
    "\n",
    "# Ionosphere\n",
    "rdr = reader.IONEXReader(date_range)\n",
    "ds = rdr.get_dataset()\n",
    "ds.to_netcdf('ionex_data.nc')"
   ]
  },
  {
   "cell_type": "markdown",
   "id": "b6231186-fa16-4b5e-9019-7c66583d7ec2",
   "metadata": {},
   "source": [
    "### 3. Option 1: Create modules and download data"
   ]
  },
  {
   "cell_type": "code",
   "execution_count": null,
   "id": "b122809c-235e-4e6e-8e42-236a8846aba6",
   "metadata": {},
   "outputs": [],
   "source": [
    "date_range = ('02-01-2020', '2-04-2020')\n",
    "\n",
    "# Ocean is using empirical model functions for surface roughening\n",
    "oc = ocean(date_range, mode='rough', online=True, \n",
    "           sst_reader=reader.GHRSSTReader, \n",
    "           sss_reader=reader.OISSSReader)  # You can also use reader.HYCOMReader, will take longer to download\n",
    "\n",
    "# Atmosphere is using empirical model functions for transmissivity\n",
    "atm = atmosphere(date_range, mode='simple', online=True, \n",
    "                 atm_reader=reader.NCEPReader) # You can also use reader.MERRAReader, will take longer to download\n",
    "\n",
    "# Ionosphere \n",
    "ion = ionosphere(datetime='2015-01-01', online=True,\n",
    "                 tec_reader=reader.IONEXReader) \n",
    "\n",
    "# Sky \n",
    "sk = sky(scattered_galaxy=True)"
   ]
  },
  {
   "cell_type": "markdown",
   "id": "637a1cc6-91a7-4d54-a948-2c95d3109f7a",
   "metadata": {},
   "source": [
    "### 3. Option 2: Create modules and use pre-downloaded data"
   ]
  },
  {
   "cell_type": "code",
   "execution_count": null,
   "id": "ca4c81b8-7671-43d8-9fc1-223a9bba3acc",
   "metadata": {},
   "outputs": [],
   "source": [
    "date_range = ('02-01-2020', '2-04-2020')\n",
    "\n",
    "# Ocean is using empirical model functions for surface roughening\n",
    "oc = ocean(date_range, mode='rough', online=False, \n",
    "           sst_reader=reader.GHRSSTReader, \n",
    "           sst_file='ghrsst_data.nc',\n",
    "           sss_reader=reader.OISSSReader, \n",
    "           sss_file='oisss_data.nc')  # You can also use reader.HYCOMReader, will take longer to download\n",
    "\n",
    "# Atmosphere is using empirical model functions for transmissivity\n",
    "atm = atmosphere(date_range, mode='simple', online=False, \n",
    "                 reader=reader.NCEPReader, \n",
    "                 file='ncep_data.nc') # You can also use reader.MERRAReader, will take longer to download\n",
    "\n",
    "# Ionosphere \n",
    "ion = ionosphere(date_range, online=False,\n",
    "                 tec_reader=reader.IONEXReader, tec_reader_kwargs={'from_dataset': True},\n",
    "                 tec_file='ionex_data.nc') \n",
    "\n",
    "# Sky \n",
    "sk = sky(scattered_galaxy=True)"
   ]
  },
  {
   "cell_type": "markdown",
   "id": "444d2e18-7572-4c57-bfd1-8fbfe75512bf",
   "metadata": {},
   "source": [
    "### 4. Make forward model "
   ]
  },
  {
   "cell_type": "code",
   "execution_count": null,
   "id": "f3319713-492a-4872-bc5c-3715217bfec0",
   "metadata": {},
   "outputs": [],
   "source": [
    "# Load obs_dict if you saved it \n",
    "obs_dict = pickle.load(open('obs_dict.p', 'rb'))\n",
    "\n",
    "frequency = np.array([1.4e3])\n",
    "bandwidth = np.array([24]) \n",
    "noise_figure = 2. \n",
    "int_time = 50e-3\n",
    "\n",
    "sol = solver(ocean=oc, atmosphere=atm, \n",
    "             ionosphere=ion, sky=sk)\n",
    "\n",
    "\n",
    "TB, anc_pack = sol.compute_spacecraft_TB(frequency, obs_dict)\n",
    "\n",
    "# Forward model TBs are 'exact', noise is added prior to the retrieval stage. \n",
    "# This may change in the future \n",
    "\n",
    "# And plots \n",
    "lat_bins = np.arange(-90, 90, 1)\n",
    "lon_bins = np.arange(-180, 180, 1)\n",
    "average_time = 24 * 3600  # in seconds\n",
    "epoch_bins = np.arange(np.min(obs_dict['epoch']), np.max(obs_dict['epoch']), average_time)\n",
    "mean_TB, std_TB = bin_observations(TB[0].ravel(), obs_dict, lat_bins, lon_bins)\n",
    "\n",
    "plt.pcolormesh(lon_bins, lat_bins, mean_TB.unstack().values)\n",
    "plt.colorbar()"
   ]
  },
  {
   "cell_type": "markdown",
   "id": "1812ca35-bcff-402d-a01b-52349557c3a4",
   "metadata": {},
   "source": [
    "### 5. Retrieve salinity "
   ]
  },
  {
   "cell_type": "code",
   "execution_count": null,
   "id": "d92dc626-e704-4567-b8e4-1475211a2d2e",
   "metadata": {},
   "outputs": [],
   "source": [
    "# Main wrapped if you want to run this in parallel \n",
    "if __name__ == '__main__': \n",
    "    outputs = sol.retrieval(TB, anc_pack, frequency=frequency, bandwidth=bandwidth, \n",
    "                            retrieve=['sss'], \n",
    "                            noise_figure=noise_figure, int_time=int_time)\n",
    "    \n",
    "    # Or in parallel \n",
    "    # outputs = sol.parallel_retrieval(TB, anc_pack, frequency=frequency, bandwidth=bandwidth, \n",
    "    #                                  retrieve=['sss', 'windspd'], \n",
    "    #                                   noise_figure=noise_figure, int_time=int_time, nproc=4, ndiv=4)\n",
    "    \n",
    "    out_dict, unc_dict, anc_dict = outputs"
   ]
  },
  {
   "cell_type": "markdown",
   "id": "896ee448-7a37-442b-b009-4e0a92f0fc96",
   "metadata": {},
   "source": [
    "### 6. Make some plots "
   ]
  },
  {
   "cell_type": "code",
   "execution_count": null,
   "id": "7c5e4f66-9766-4003-a3cd-49f0fcc5c289",
   "metadata": {},
   "outputs": [],
   "source": [
    "lat_bins = np.arange(-90, 90, 0.5)\n",
    "lon_bins = np.arange(-180, 180, 0.5)\n",
    "average_time = 24 * 3600  # in seconds\n",
    "epoch_bins = np.arange(np.min(obs_dict['epoch']), np.max(obs_dict['epoch']), average_time)\n",
    "mean_sss, _ = bin_observations(out_dict['sss'], obs_dict, lat_bins, lon_bins, epoch_bins)\n",
    "std_sss, _ = bin_observations(unc_dict['sss'], obs_dict, lat_bins, lon_bins, epoch_bins)\n",
    "\n",
    "plt.figure()\n",
    "ax = fig.add_subplot(121, projection=ccrs.PlateCarree())\n",
    "ax.coastlines()\n",
    "im = ax.pcolormesh(lon_bins, lat_bins, mean_sss.values.reshape(len(lat_bins), len(lon_bins)), \n",
    "                   shading='auto', cmap='turbo', transform=ccrs.PlateCarree())\n",
    "fig.colorbar(im, ax=ax, fraction=0.03, pad=0.04, label='Retrieved SSS')\n",
    "\n",
    "ax = fig.add_subplot(122, projection=ccrs.PlateCarree())\n",
    "ax.coastlines()\n",
    "im = ax.pcolormesh(lon_bins, lat_bins, std_sss.values.reshape(len(lat_bins), len(lon_bins)), \n",
    "                   shading='auto', cmap='turbo', transform=ccrs.PlateCarree())\n",
    "fig.colorbar(im, ax=ax, fraction=0.03, pad=0.04, label='Retrieved SSS')\n"
   ]
  },
  {
   "cell_type": "markdown",
   "id": "bbd76c70-7e7f-473e-88c9-134fea1eee04",
   "metadata": {},
   "source": [
    "## Set 2 - Use package defaults, ignore timing, gridded map\n",
    "### 1. Create modules"
   ]
  },
  {
   "cell_type": "code",
   "execution_count": null,
   "id": "16684126-e7be-4493-8401-9418ddbebf03",
   "metadata": {},
   "outputs": [],
   "source": [
    "# Ocean \n",
    "oc = ocean(mode='rough', online=False)\n",
    "\n",
    "# Atmosphere\n",
    "atm = atmosphere(mode='simple', online=False)\n",
    "\n",
    "# Ionosphere \n",
    "ion = ionosphere(online=False)\n",
    "\n",
    "# Sky \n",
    "sk = sky(scattered_galaxy=True)"
   ]
  },
  {
   "cell_type": "markdown",
   "id": "0c66f792-806d-4b28-afb2-85053f956a53",
   "metadata": {},
   "source": [
    "### 2. Make forward model "
   ]
  },
  {
   "cell_type": "code",
   "execution_count": null,
   "id": "600413f7-759f-4b31-be97-9bf0f92be357",
   "metadata": {},
   "outputs": [],
   "source": [
    "frequency = np.array([1.4e3])\n",
    "bandwidth = np.array([24]) \n",
    "noise_figure = 2. \n",
    "int_time = 50e-3\n",
    "\n",
    "incidence_angle = 40. \n",
    "\n",
    "lat = np.arange(-90, 90, 1.)\n",
    "lon = np.arange(-180, 180, 1.)\n",
    "lon_grid, lat_grid = np.meshgrid(lon, lat)\n",
    "original_shape = np.shape(lon_grid)\n",
    "lon_grid = lon_grid.flatten()\n",
    "lat_grid = lat_grid.flatten()\n",
    "times = np.zeros(len(lon_grid))  # Placeholder \n",
    "theta = incidence_angle * np.ones(len(lon_grid))\n",
    "phi = np.zeros(len(lon_grid))\n",
    "sun_flag = np.zeros(len(lon_grid)).astype(bool)\n",
    "moon_flag = np.zeros(len(lon_grid)).astype(bool)\n",
    "\n",
    "\n",
    "sol = solver(ocean=oc, atmosphere=atm, \n",
    "             ionosphere=ion, sky=sk)\n",
    "\n",
    "TB = sol.compute_TB(frequency, times, lat_grid, lon_grid, theta, phi, \n",
    "                    ra=lon_grid, dec=lat_grid, sun_flag=sun_flag, moon_flag=moon_flag, use_time=False)\n",
    "anc_pack = sol.ancillary_pack(times, lat_grid, lon_grid, theta, phi, \n",
    "                              ra=lon_grid, dec=lat_grid, use_time=False)\n",
    "\n",
    "# And plots \n",
    "lat_bins = np.arange(-90, 90, 1)\n",
    "lon_bins = np.arange(-180, 180, 1)\n",
    "\n",
    "plt.pcolormesh(lon_bins, lat_bins, TB[0].reshape((len(lat_bins), len(lon_bins))))\n",
    "plt.colorbar()\n"
   ]
  },
  {
   "cell_type": "markdown",
   "id": "e0db2656-071e-4fbc-a366-d003f028cac8",
   "metadata": {},
   "source": [
    "### 3. Retrieve salinity "
   ]
  },
  {
   "cell_type": "code",
   "execution_count": null,
   "id": "5c28fe2f-e0b1-4b7c-8618-3a9b2b234493",
   "metadata": {},
   "outputs": [],
   "source": [
    "# Main wrapped if you want to run this in parallel \n",
    "if __name__ == '__main__': \n",
    "    outputs = sol.retrieval(TB, anc_pack, frequency=frequency, bandwidth=bandwidth, \n",
    "                            retrieve=['sss'], \n",
    "                            noise_figure=noise_figure, int_time=int_time)\n",
    "    # Or in parallel \n",
    "    # outputs = sol.parallel_retrieval(TB, anc_pack, frequency=frequency, bandwidth=bandwidth, \n",
    "    #                                  retrieve=['sss'], \n",
    "    #                                   noise_figure=noise_figure, int_time=int_time, nproc=4, ndiv=4)\n",
    "    \n",
    "    out_dict, unc_dict, anc_dict = outputs"
   ]
  },
  {
   "cell_type": "markdown",
   "id": "8b2d4fe8-8034-416f-a571-dadc0307f218",
   "metadata": {},
   "source": [
    "### 4. Make plots "
   ]
  },
  {
   "cell_type": "code",
   "execution_count": null,
   "id": "58d95986-7d9f-4daf-a5ac-88e0e0dcf688",
   "metadata": {},
   "outputs": [],
   "source": [
    "mean_sss, _ = bin_observations(out_dict['sss'], anc_dict, lat, lon)\n",
    "std_sss, _ = bin_observations(unc_dict['sss'], anc_dict, lat, lon)\n",
    "\n",
    "fig = plt.figure(figsize=(10, 10))\n",
    "ax = fig.add_subplot(211, projection=ccrs.PlateCarree())\n",
    "ax.coastlines()\n",
    "im = ax.pcolormesh(lon, lat, mean_sss.values.reshape(len(lat), len(lon)), \n",
    "                   shading='auto', cmap='turbo', transform=ccrs.PlateCarree())\n",
    "fig.colorbar(im, ax=ax, fraction=0.03, pad=0.04, label='Retrieved SSS')\n",
    "\n",
    "ax = fig.add_subplot(212, projection=ccrs.PlateCarree())\n",
    "ax.coastlines()\n",
    "im = ax.pcolormesh(lon, lat, std_sss.values.reshape(len(lat), len(lon)), \n",
    "                   shading='auto', cmap='turbo', transform=ccrs.PlateCarree(), vmin=0, vmax=10)\n",
    "fig.colorbar(im, ax=ax, fraction=0.03, pad=0.04, label='Retrieved SSS')"
   ]
  },
  {
   "cell_type": "code",
   "execution_count": null,
   "id": "8d0efb80-b54c-490f-a4cb-0a2b6e010ba9",
   "metadata": {},
   "outputs": [],
   "source": [
    "from foam.utils.retrieval_plots import plot_snapshot_dsss\n",
    "plot_snapshot_dsss(out_dict, anc_dict)"
   ]
  },
  {
   "cell_type": "code",
   "execution_count": null,
   "id": "af979bb8-cb24-4d74-b0d1-73bed083f488",
   "metadata": {},
   "outputs": [],
   "source": []
  }
 ],
 "metadata": {
  "kernelspec": {
   "display_name": "Python 3 (ipykernel)",
   "language": "python",
   "name": "python3"
  },
  "language_info": {
   "codemirror_mode": {
    "name": "ipython",
    "version": 3
   },
   "file_extension": ".py",
   "mimetype": "text/x-python",
   "name": "python",
   "nbconvert_exporter": "python",
   "pygments_lexer": "ipython3",
   "version": "3.8.12"
  }
 },
 "nbformat": 4,
 "nbformat_minor": 5
}
